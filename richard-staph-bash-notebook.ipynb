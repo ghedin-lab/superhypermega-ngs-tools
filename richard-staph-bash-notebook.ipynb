{
 "cells": [
  {
   "cell_type": "markdown",
   "metadata": {
    "toc": "true"
   },
   "source": [
    "# Table of Contents\n",
    " <p><div class=\"lev1\"><a href=\"#Data\"><span class=\"toc-item-num\">1 - </span>Data</a></div>"
   ]
  },
  {
   "cell_type": "markdown",
   "metadata": {},
   "source": [
    "Below is the documentation that is necessary to analyze the Staph data using our in-house pipeline for variant analysis."
   ]
  },
  {
   "cell_type": "markdown",
   "metadata": {},
   "source": [
    "# Data"
   ]
  },
  {
   "cell_type": "markdown",
   "metadata": {},
   "source": [
    "The data that are provided are as follows:\n",
    "1) Paired-end single colony fastqs\n",
    "2) Paired-end pool fastqs\n",
    "3) bam files for each\n",
    "4) reference sequence used"
   ]
  },
  {
   "cell_type": "code",
   "execution_count": 1,
   "metadata": {
    "ExecuteTime": {
     "end_time": "2016-03-14T12:31:23.279519",
     "start_time": "2016-03-14T12:31:23.070724"
    },
    "collapsed": false
   },
   "outputs": [
    {
     "name": "stdout",
     "output_type": "stream",
     "text": [
      "pool_48_TCGGCA_L004_R1_001.fastq.gz\r\n",
      "pool_48_TCGGCA_L004_R2_001.fastq.gz\r\n",
      "pool_48_TCGGCA.sortedrmdupbam_realign.bai\r\n",
      "pool_48_TCGGCA.sortedrmdupbam_realign.bam\r\n",
      "single_colony_7_ATCACG_L004_R1_001.fastq.gz\r\n",
      "single_colony_7_ATCACG_L004_R2_001.fastq.gz\r\n",
      "single_colony_7_ATCACG.sortedrmdupbam_realign.bai\r\n",
      "single_colony_7_ATCACG.sortedrmdupbam_realign.bam\r\n",
      "USA300_FPR3757.fasta\r\n"
     ]
    }
   ],
   "source": [
    "ls data"
   ]
  },
  {
   "cell_type": "code",
   "execution_count": null,
   "metadata": {
    "collapsed": true
   },
   "outputs": [],
   "source": []
  }
 ],
 "metadata": {
  "kernelspec": {
   "display_name": "Bash",
   "language": "bash",
   "name": "bash"
  },
  "language_info": {
   "codemirror_mode": "shell",
   "file_extension": ".sh",
   "mimetype": "text/x-sh",
   "name": "bash"
  },
  "toc": {
   "toc_cell": true,
   "toc_number_sections": true,
   "toc_threshold": "4",
   "toc_window_display": true
  }
 },
 "nbformat": 4,
 "nbformat_minor": 0
}
